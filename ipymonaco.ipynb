{
 "cells": [
  {
   "cell_type": "markdown",
   "metadata": {},
   "source": [
    "ipymonaco\n",
    "=========\n",
    "\n",
    "This Jupyter notebook renders Microsoft's Monaco text editor as a ipywidget widget.\n",
    "\n",
    "## Compatibilities \n",
    "ipymonaco is tested on the following platforms.\n",
    "\n",
    "| Platforms                         | Kernel                         | Link                                                         |\n",
    "| --------------------------------- | ------------------------------ | ------------------------------------------------------------ |\n",
    "| Kaggle Kernel [JupyterLab 1.2.10] | python==3.7.6, ipython==7.13.0 |                                                              |\n",
    "| Classic Notebook 6.0.3            | python==3.7.6, ipython==7.11.1 | [![Binder](https://mybinder.org/badge_logo.svg)](https://mybinder.org/v2/gist/sodennis/5f7c4d9d3f1c871ad383c1e72f08c23c/master?filepath=ipymonaco.ipynb) |\n",
    "| JupyterLab 1.2.6                  | python==3.7.6, ipython==7.11.1 | [![Binder](https://mybinder.org/badge_logo.svg)](https://mybinder.org/v2/gist/sodennis/5f7c4d9d3f1c871ad383c1e72f08c23c/master?urlpath=lab/tree/ipymonaco.ipynb) |\n",
    "\n",
    "ipymonaco does not work on:\n",
    "\n",
    "| Platforms                | Kernel |\n",
    "| ------------------------ | ------ |\n",
    "| Google Colab             | N/A    |\n",
    "| Microsoft Azure Notebook | N/A    |\n",
    "\n",
    "The platforms above does not allow custom ipywidgets to execute.\n",
    "\n"
   ]
  },
  {
   "cell_type": "markdown",
   "metadata": {},
   "source": [
    "## Installation\n",
    "For those who are using Kaggle Kernel or a Classic Notebook, run the following cell to install and enable the ipywidget as a Jupyter notebook extension."
   ]
  },
  {
   "cell_type": "code",
   "execution_count": null,
   "metadata": {
    "_cell_guid": "b1076dfc-b9ad-4769-8c92-a6c4dae69d19",
    "_uuid": "8f2839f25d086af736a60e9eeb907d3b93b6e0e5"
   },
   "outputs": [],
   "source": [
    "!pip install ipymonaco==\"0.0.21a\"\n",
    "\n",
    "# if notebook < 5.3\n",
    "!jupyter nbextension enable --py --sys-prefix ipymonaco"
   ]
  },
  {
   "cell_type": "markdown",
   "metadata": {},
   "source": [
    "For those who are using JupyterLab, run the following cell to install and enable the ipywidget as a Jupyter Lab extension. This step is not required for Kaggle Kernel or within a Classic Notebook."
   ]
  },
  {
   "cell_type": "code",
   "execution_count": null,
   "metadata": {},
   "outputs": [],
   "source": [
    "# if the server has enough memory\n",
    "!pip install ipymonaco==\"0.0.21a\"\n",
    "!jupyter labextension install ipymonaco"
   ]
  },
  {
   "cell_type": "code",
   "execution_count": null,
   "metadata": {},
   "outputs": [],
   "source": [
    "# if the server runs out of memory while Jupyter is trying to minimize JS files\n",
    "!pip install ipymonaco==\"0.0.21a\"\n",
    "!jupyter labextension install ipymonaco --no-build\n",
    "!jupyter lab clean\n",
    "!jupyter lab build --minimize=False"
   ]
  },
  {
   "cell_type": "code",
   "execution_count": null,
   "metadata": {},
   "outputs": [],
   "source": [
    "# if ipywidget is not installed and the server runs out of memory while Jupyter is trying to minimize JS files\n",
    "!pip install ipymonaco==\"0.0.21a\"\n",
    "!pip install ipywidgets\n",
    "!jupyter nbextension enable --py widgetsnbextension\n",
    "!jupyter labextension install @jupyter-widgets/jupyterlab-manager --no-build\n",
    "!jupyter labextension install ipymonaco --no-build\n",
    "!jupyter lab clean\n",
    "!jupyter lab build --minimize=False"
   ]
  },
  {
   "cell_type": "markdown",
   "metadata": {},
   "source": [
    "## Render Microsoft Monaco as a Jupyter ipywidget\n",
    "Before you can run the following cell, run the prior installation steps and **refresh this page with the browser's cache disabled**."
   ]
  },
  {
   "cell_type": "code",
   "execution_count": null,
   "metadata": {
    "_cell_guid": "79c7e3d0-c299-4dcb-8224-4455121ee9b0",
    "_uuid": "d629ff2d2480ee46fbb7e2d37f6b5fab8052498a"
   },
   "outputs": [],
   "source": [
    "from ipymonaco import *\n",
    "hello = Monaco(value=\"SELECT * FROM \\\"table\\\";\", theme=\"vs\", language=\"sql\", readOnly=False)\n",
    "hello"
   ]
  },
  {
   "cell_type": "markdown",
   "metadata": {},
   "source": [
    "## Troubleshooting\n",
    "ipywidgets have known incompatibilities with certain flavors of Jupyter and the kernels. It is also important to open the Console of your browser to see any if there are errors trying to render the ipywidget."
   ]
  },
  {
   "cell_type": "code",
   "execution_count": null,
   "metadata": {},
   "outputs": [],
   "source": [
    "import sys\n",
    "!{sys.executable} --version\n",
    "!npm --version\n",
    "!pip show ipywidgets\n",
    "!jupyter labextension list\n",
    "!jupyter nbextension list\n",
    "!pip freeze"
   ]
  }
 ],
 "metadata": {
  "kernelspec": {
   "display_name": "Python 3",
   "language": "python",
   "name": "python3"
  },
  "language_info": {
   "codemirror_mode": {
    "name": "ipython",
    "version": 3
   },
   "file_extension": ".py",
   "mimetype": "text/x-python",
   "name": "python",
   "nbconvert_exporter": "python",
   "pygments_lexer": "ipython3",
   "version": "3.7.6"
  }
 },
 "nbformat": 4,
 "nbformat_minor": 4
}